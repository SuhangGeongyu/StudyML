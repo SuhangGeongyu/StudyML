{
 "cells": [
  {
   "cell_type": "code",
   "execution_count": 1,
   "metadata": {},
   "outputs": [],
   "source": [
    "import tensorflow as tf"
   ]
  },
  {
   "cell_type": "markdown",
   "metadata": {},
   "source": [
    "### p.169 Perceptron 를 텐서플로로 표현하기"
   ]
  },
  {
   "cell_type": "code",
   "execution_count": 2,
   "metadata": {},
   "outputs": [
    {
     "name": "stdout",
     "output_type": "stream",
     "text": [
      "[[2.]\n",
      " [4.]]\n",
      "[[1.]\n",
      " [5.]\n",
      " [3.]\n",
      " [7.]]\n"
     ]
    }
   ],
   "source": [
    "X_data = [[0, 0],[0, 1],[1, 0],[1, 1]]\n",
    "\n",
    "X = tf.placeholder(tf.float32, [None,2])\n",
    "\n",
    "W = tf.Variable([[2.],[4.]], name=\"weight\")\n",
    "b = tf.Variable([1.], name = \"bias\")\n",
    "\n",
    "hypothesis = tf.matmul(X, W) + b\n",
    "\n",
    "with tf.Session() as sess:\n",
    "    sess.run(tf.global_variables_initializer())\n",
    "    print(sess.run(W))\n",
    "    print(sess.run(hypothesis, feed_dict={X:X_data}))"
   ]
  },
  {
   "cell_type": "markdown",
   "metadata": {},
   "source": [
    "### p.172 Perceptron의 학습"
   ]
  },
  {
   "cell_type": "code",
   "execution_count": 3,
   "metadata": {},
   "outputs": [
    {
     "name": "stdout",
     "output_type": "stream",
     "text": [
      "W: [[2. 4.]] b: [1.] cost: [[36.]]\n",
      "W: [[0.79999995 2.8       ]] b: [-0.20000005] cost: [[5.7599993]]\n",
      "W: [[0.31999996 2.32      ]] b: [-0.68000007] cost: [[0.9215996]]\n",
      "W: [[0.128 2.128]] b: [-0.87200004] cost: [[0.14745605]]\n",
      "W: [[0.05119999 2.0512    ]] b: [-0.9488] cost: [[0.02359288]]\n",
      "W: [[0.02048005 2.02048   ]] b: [-0.97951996] cost: [[0.00377489]]\n",
      "W: [[0.00819202 2.0081918 ]] b: [-0.991808] cost: [[0.00060398]]\n"
     ]
    }
   ],
   "source": [
    "X_data = [[1, 1]]\n",
    "Y_data = [[1]]\n",
    "\n",
    "X = tf.placeholder(tf.float32, [None,2])\n",
    "Y = tf.placeholder(tf.float32, [None,1])\n",
    "\n",
    "W = tf.Variable([[2.],[4.]], name=\"weight\")\n",
    "b = tf.Variable([1.], name = \"bias\")\n",
    "\n",
    "hypothesis = tf.matmul(X, W) + b\n",
    "cost = tf.square(hypothesis - Y)\n",
    "optimizer = tf.train.GradientDescentOptimizer(learning_rate=0.1)\n",
    "train = optimizer.minimize(cost)\n",
    "\n",
    "with tf.Session() as sess:\n",
    "    sess.run(tf.global_variables_initializer())\n",
    "    for step in range(7):\n",
    "        W_val, b_val, cost_val = sess.run([W, b, cost], \n",
    "                                      feed_dict={X:X_data, Y:Y_data})\n",
    "        sess.run(train, feed_dict={X:X_data, Y:Y_data})\n",
    "        print(\"W:\", W_val.reshape(1,2), \"b:\", b_val, \"cost:\", cost_val)"
   ]
  },
  {
   "cell_type": "markdown",
   "metadata": {},
   "source": [
    "### p.175 AND 게이트 구현"
   ]
  },
  {
   "cell_type": "code",
   "execution_count": 4,
   "metadata": {},
   "outputs": [
    {
     "name": "stdout",
     "output_type": "stream",
     "text": [
      "W: [[0.5000007 0.5000007]] b: [-0.25000077] cost: 0.0625 \n",
      " hypothesis:\n",
      " [[-0.25000077]\n",
      " [ 0.24999994]\n",
      " [ 0.24999994]\n",
      " [ 0.75000066]] \n",
      " predicted:\n",
      " [[0.]\n",
      " [0.]\n",
      " [0.]\n",
      " [1.]]\n"
     ]
    }
   ],
   "source": [
    "X_data = [[0, 0],[0, 1],[1, 0],[1, 1]]\n",
    "Y_data = [[0],[0],[0],[1]]\n",
    "\n",
    "X = tf.placeholder(tf.float32, [None,2])\n",
    "Y = tf.placeholder(tf.float32, [None,1])\n",
    "\n",
    "W = tf.Variable([[2.],[4.]], name=\"weight\")\n",
    "b = tf.Variable([1.], name = \"bias\")\n",
    "\n",
    "hypothesis = tf.matmul(X, W) + b\n",
    "cost = tf.reduce_mean(tf.square(hypothesis - Y))\n",
    "optimizer = tf.train.GradientDescentOptimizer(learning_rate=0.1)\n",
    "train = optimizer.minimize(cost)\n",
    "predicted = tf.cast(hypothesis > 0.5, dtype=tf.float32)\n",
    "\n",
    "with tf.Session() as sess:\n",
    "    sess.run(tf.global_variables_initializer())\n",
    "    for step in range(1000):\n",
    "        sess.run(train, feed_dict={X:X_data, Y:Y_data})\n",
    "    W_val, b_val, cost_val, hyp_val, pre_val = sess.run(\n",
    "        [W, b, cost, hypothesis, predicted], feed_dict={X:X_data, Y:Y_data})                                               \n",
    "    print(\"W:\", W_val.reshape(1,2), \"b:\", b_val, \"cost:\", cost_val,\n",
    "          \"\\n hypothesis:\\n\", hyp_val, '\\n predicted:\\n', pre_val)"
   ]
  },
  {
   "cell_type": "markdown",
   "metadata": {},
   "source": [
    "### p.180 시그모이드 활용"
   ]
  },
  {
   "cell_type": "code",
   "execution_count": 5,
   "metadata": {},
   "outputs": [
    {
     "name": "stdout",
     "output_type": "stream",
     "text": [
      "W: [[3.3827615 3.4324124]] b: [-5.3185835] cost: 0.12072968 \n",
      " cost_detail:\n",
      " [[0.0048877 ]\n",
      " [0.1411969 ]\n",
      " [0.13479799]\n",
      " [0.20203611]] \n",
      " hypothesis:\n",
      " [[0.0048758 ]\n",
      " [0.13168165]\n",
      " [0.12610757]\n",
      " [0.8170654 ]] \n",
      " predicted:\n",
      " [[0.]\n",
      " [0.]\n",
      " [0.]\n",
      " [1.]]\n"
     ]
    }
   ],
   "source": [
    "X_data = [[0, 0],[0, 1],[1, 0],[1, 1]]\n",
    "Y_data = [[0],[0],[0],[1]]\n",
    "\n",
    "X = tf.placeholder(tf.float32, [None,2])\n",
    "Y = tf.placeholder(tf.float32, [None,1])\n",
    "\n",
    "W = tf.Variable([[2.],[4.]], name=\"weight\")\n",
    "b = tf.Variable([1.], name = \"bias\")\n",
    "\n",
    "hypothesis = tf.sigmoid(tf.matmul(X, W) + b)\n",
    "cost_Detail = -Y * tf.log(hypothesis) -(1 - Y) * tf.log(1 - hypothesis)\n",
    "cost = -tf.reduce_mean(Y * tf.log(hypothesis) + (1 - Y) * tf.log(1 - hypothesis))\n",
    "optimizer = tf.train.GradientDescentOptimizer(learning_rate=0.1)\n",
    "train = optimizer.minimize(cost)\n",
    "predicted = tf.cast(hypothesis > 0.5, dtype=tf.float32)\n",
    "\n",
    "with tf.Session() as sess:\n",
    "    sess.run(tf.global_variables_initializer())\n",
    "    for step in range(1000):\n",
    "        sess.run(train, feed_dict={X:X_data, Y:Y_data})\n",
    "    W_val, b_val, cost_val, cost_Detail_val, hyp_val, pre_val = sess.run(\n",
    "        [W, b, cost, cost_Detail, hypothesis, predicted], feed_dict={X:X_data, Y:Y_data})                                               \n",
    "    print(\"W:\", W_val.reshape(1,2), \"b:\", b_val, \"cost:\", cost_val, \"\\n cost_detail:\\n\", cost_Detail_val,\n",
    "          \"\\n hypothesis:\\n\", hyp_val, '\\n predicted:\\n', pre_val)"
   ]
  },
  {
   "cell_type": "markdown",
   "metadata": {},
   "source": [
    "### p.182 시그모이드 & MSE"
   ]
  },
  {
   "cell_type": "code",
   "execution_count": 6,
   "metadata": {},
   "outputs": [
    {
     "name": "stdout",
     "output_type": "stream",
     "text": [
      "W: [[2.1486247 2.5496874]] b: [-3.6718142] cost: 0.040638063 \n",
      " hypothesis:\n",
      " [[0.02479963]\n",
      " [0.24561699]\n",
      " [0.17899232]\n",
      " [0.73623633]] \n",
      " predicted:\n",
      " [[0.]\n",
      " [0.]\n",
      " [0.]\n",
      " [1.]]\n"
     ]
    }
   ],
   "source": [
    "X_data = [[0, 0],[0, 1],[1, 0],[1, 1]]\n",
    "Y_data = [[0],[0],[0],[1]]\n",
    "\n",
    "X = tf.placeholder(tf.float32, [None,2])\n",
    "Y = tf.placeholder(tf.float32, [None,1])\n",
    "\n",
    "W = tf.Variable([[2.],[4.]], name=\"weight\")\n",
    "b = tf.Variable([1.], name = \"bias\")\n",
    "\n",
    "hypothesis = tf.sigmoid(tf.matmul(X, W) + b)\n",
    "cost = tf.reduce_mean(tf.square(hypothesis - Y))\n",
    "optimizer = tf.train.GradientDescentOptimizer(learning_rate=0.1)\n",
    "train = optimizer.minimize(cost)\n",
    "predicted = tf.cast(hypothesis > 0.5, dtype=tf.float32)\n",
    "\n",
    "with tf.Session() as sess:\n",
    "    sess.run(tf.global_variables_initializer())\n",
    "    for step in range(1000):\n",
    "        sess.run(train, feed_dict={X:X_data, Y:Y_data})\n",
    "    W_val, b_val, cost_val, hyp_val, pre_val = sess.run(\n",
    "        [W, b, cost, hypothesis, predicted], feed_dict={X:X_data, Y:Y_data})                                               \n",
    "    print(\"W:\", W_val.reshape(1,2), \"b:\", b_val, \"cost:\", cost_val,\n",
    "          \"\\n hypothesis:\\n\", hyp_val, '\\n predicted:\\n', pre_val)"
   ]
  },
  {
   "cell_type": "markdown",
   "metadata": {},
   "source": [
    "### p.183 시그모이드 미분그래프"
   ]
  },
  {
   "cell_type": "code",
   "execution_count": 7,
   "metadata": {},
   "outputs": [],
   "source": [
    "import numpy as np\n",
    "import matplotlib.pyplot as plt"
   ]
  },
  {
   "cell_type": "code",
   "execution_count": 8,
   "metadata": {},
   "outputs": [
    {
     "data": {
      "image/png": "[encoded data removed]",
      "text/plain": [
       "<Figure size 432x288 with 1 Axes>"
      ]
     },
     "metadata": {
      "needs_background": "light"
     },
     "output_type": "display_data"
    }
   ],
   "source": [
    "def sigmoid(x):\n",
    "    return 1/(1+np.exp(-1*x))\n",
    "def deff_sigmoid(x):\n",
    "    return sigmoid(x)*(1-sigmoid(x))\n",
    "\n",
    "x_data = np.linspace(-10, 10, 100)\n",
    "y_data = deff_sigmoid(x_data)\n",
    "\n",
    "plt.plot(x_data, y_data)\n",
    "plt.show()"
   ]
  },
  {
   "cell_type": "markdown",
   "metadata": {},
   "source": [
    "### p.235 Softmax Classification"
   ]
  },
  {
   "cell_type": "code",
   "execution_count": 9,
   "metadata": {},
   "outputs": [
    {
     "name": "stdout",
     "output_type": "stream",
     "text": [
      "0 8.234596\n",
      "200 0.6109049\n",
      "400 0.501715\n",
      "600 0.4057542\n",
      "800 0.31276512\n",
      "1000 0.2428631\n",
      "1200 0.21935341\n",
      "1400 0.19997402\n",
      "1600 0.18363053\n",
      "1800 0.16966866\n",
      "2000 0.15761118\n",
      "--------------\n",
      "[[2.326574e-06 8.208166e-04 9.991768e-01]] [2]\n",
      "[[0.00201385 0.08471417 0.913272  ]] [2]\n",
      "[[9.0210442e-08 1.6583623e-01 8.3416361e-01]] [2]\n",
      "--------------\n",
      "[[2.3265741e-06 8.2081661e-04 9.9917680e-01]\n",
      " [2.0138491e-03 8.4714204e-02 9.1327190e-01]\n",
      " [9.0210442e-08 1.6583627e-01 8.3416361e-01]] [2 2 2]\n"
     ]
    }
   ],
   "source": [
    "tf.set_random_seed(777)\n",
    "\n",
    "x_data = [[1, 2, 1, 1],\n",
    "          [2, 1, 3, 2],\n",
    "          [3, 1, 3, 4],\n",
    "          [4, 1, 5, 5],\n",
    "          [1, 7, 5, 5],\n",
    "          [1, 2, 5, 6],\n",
    "          [1, 6, 6, 6],\n",
    "          [1, 7, 7, 7]]\n",
    "y_data = [[0, 0, 1],\n",
    "          [0, 0, 1],\n",
    "          [0, 0, 1],\n",
    "          [0, 1, 0],\n",
    "          [0, 1, 0],\n",
    "          [0, 1, 0],\n",
    "          [1, 0, 0],\n",
    "          [1, 0, 0]]\n",
    "\n",
    "X = tf.placeholder(\"float\", [None, 4])\n",
    "Y = tf.placeholder(\"float\", [None, 3])\n",
    "nb_classes = 3\n",
    "\n",
    "W = tf.Variable(tf.random_normal([4, nb_classes]), name='weight')\n",
    "b = tf.Variable(tf.random_normal([nb_classes]), name='bias')\n",
    "\n",
    "hypothesis = tf.nn.softmax(tf.matmul(X, W) + b)\n",
    "cost = tf.reduce_mean(-tf.reduce_sum(Y * tf.log(hypothesis), axis=1))\n",
    "optimizer = tf.train.GradientDescentOptimizer(learning_rate=0.1).minimize(cost)\n",
    "\n",
    "with tf.Session() as sess:\n",
    "    sess.run(tf.global_variables_initializer())\n",
    "    for step in range(2001):\n",
    "        sess.run(optimizer, feed_dict={X: x_data, Y: y_data})\n",
    "        if step % 200 == 0:\n",
    "            print(step, sess.run(cost, feed_dict={X: x_data, Y: y_data}))\n",
    "            \n",
    "    print('--------------')\n",
    "    a = sess.run(hypothesis, feed_dict={X: [[1, 2, 1, 1]]})\n",
    "    print(a, sess.run(tf.argmax(a, 1)))\n",
    "    b = sess.run(hypothesis, feed_dict={X: [[2, 1, 3, 2]]})\n",
    "    print(b, sess.run(tf.argmax(b, 1)))\n",
    "    c = sess.run(hypothesis, feed_dict={X: [[3, 1, 3, 4]]})\n",
    "    print(c, sess.run(tf.argmax(c, 1)))\n",
    "    print('--------------')\n",
    "    \n",
    "    all = sess.run(hypothesis, feed_dict={\n",
    "                   X: [[1, 2, 1, 1], [2, 1, 3, 2], [3, 1, 3, 4]]})\n",
    "    \n",
    "    print(all, sess.run(tf.argmax(all, 1)))"
   ]
  },
  {
   "cell_type": "markdown",
   "metadata": {},
   "source": [
    "### p.348 Learning Neural Network"
   ]
  },
  {
   "cell_type": "code",
   "execution_count": 10,
   "metadata": {},
   "outputs": [
    {
     "name": "stdout",
     "output_type": "stream",
     "text": [
      "step : 1 \n",
      "W:\n",
      " [[1. 2.]\n",
      " [3. 4.]] \n",
      "b: [1. 2.] \n",
      "cost: 4.01815 \n",
      "hypothesis:\n",
      " [[0.018 0.982]] \n",
      "predicted:\n",
      " [1]\n",
      "--------------------\n",
      "step : 2 \n",
      "W:\n",
      " [[1.0982 1.9018]\n",
      " [3.1964 3.8036]] \n",
      "b: [1.0982 1.9018] \n",
      "cost: 2.879391 \n",
      "hypothesis:\n",
      " [[0.0562 0.9438]] \n",
      "predicted:\n",
      " [1]\n",
      "--------------------\n",
      "step : 3 \n",
      "W:\n",
      " [[1.1926 1.8074]\n",
      " [3.3852 3.6148]] \n",
      "b: [1.1926 1.8074] \n",
      "cost: 1.8584802 \n",
      "hypothesis:\n",
      " [[0.1559 0.8441]] \n",
      "predicted:\n",
      " [1]\n",
      "--------------------\n",
      "step : 4 \n",
      "W:\n",
      " [[1.277 1.723]\n",
      " [3.554 3.446]] \n",
      "b: [1.277 1.723] \n",
      "cost: 1.0872645 \n",
      "hypothesis:\n",
      " [[0.3371 0.6629]] \n",
      "predicted:\n",
      " [1]\n",
      "--------------------\n",
      "step : 5 \n",
      "W:\n",
      " [[1.3433 1.6567]\n",
      " [3.6866 3.3134]] \n",
      "b: [1.3433 1.6567] \n",
      "cost: 0.63524795 \n",
      "hypothesis:\n",
      " [[0.5298 0.4702]] \n",
      "predicted:\n",
      " [0]\n",
      "--------------------\n",
      "step : 6 \n",
      "W:\n",
      " [[1.3903 1.6097]\n",
      " [3.7806 3.2194]] \n",
      "b: [1.3903 1.6097] \n",
      "cost: 0.40865976 \n",
      "hypothesis:\n",
      " [[0.6645 0.3355]] \n",
      "predicted:\n",
      " [0]\n",
      "--------------------\n",
      "step : 7 \n",
      "W:\n",
      " [[1.4238 1.5762]\n",
      " [3.8477 3.1523]] \n",
      "b: [1.4238 1.5762] \n",
      "cost: 0.29081345 \n",
      "hypothesis:\n",
      " [[0.7477 0.2523]] \n",
      "predicted:\n",
      " [0]\n",
      "--------------------\n",
      "step : 8 \n",
      "W:\n",
      " [[1.4491 1.5509]\n",
      " [3.8982 3.1018]] \n",
      "b: [1.4491 1.5509] \n",
      "cost: 0.22261134 \n",
      "hypothesis:\n",
      " [[0.8004 0.1996]] \n",
      "predicted:\n",
      " [0]\n",
      "--------------------\n",
      "step : 9 \n",
      "W:\n",
      " [[1.469  1.531 ]\n",
      " [3.9381 3.0619]] \n",
      "b: [1.469 1.531] \n",
      "cost: 0.17917848 \n",
      "hypothesis:\n",
      " [[0.836 0.164]] \n",
      "predicted:\n",
      " [0]\n",
      "--------------------\n",
      "step : 10 \n",
      "W:\n",
      " [[1.4854 1.5146]\n",
      " [3.9709 3.0291]] \n",
      "b: [1.4854 1.5146] \n",
      "cost: 0.14942771 \n",
      "hypothesis:\n",
      " [[0.8612 0.1388]] \n",
      "predicted:\n",
      " [0]\n",
      "--------------------\n"
     ]
    }
   ],
   "source": [
    "X_data = [[1, 2]]\n",
    "Y_data = [[1, 0]]\n",
    "\n",
    "X = tf.placeholder(tf.float32, [None,2])\n",
    "Y = tf.placeholder(tf.float32, [None,2])\n",
    "\n",
    "W = tf.Variable([[1., 2.],[3., 4.]], name=\"weight\")\n",
    "b = tf.Variable([1., 2.], name = \"bias\")\n",
    "                \n",
    "hypothesis = tf.nn.softmax(tf.matmul(X, W) + b)\n",
    "cost = tf.reduce_mean(-tf.reduce_sum(Y * tf.log(hypothesis), axis=1))\n",
    "optimizer = tf.train.GradientDescentOptimizer(learning_rate=0.1)\n",
    "train = optimizer.minimize(cost)\n",
    "\n",
    "with tf.Session() as sess:\n",
    "    sess.run(tf.global_variables_initializer())\n",
    "    for step in range(10):\n",
    "        W_val, b_val, cost_val, hyp_val = sess.run(\n",
    "            [W, b, cost, hypothesis], feed_dict={X:X_data, Y:Y_data})\n",
    "        pred = sess.run(tf.argmax(hyp_val, 1))\n",
    "        print('step :', step+1, '\\nW:\\n', np.round(W_val, 4), '\\nb:', np.round(b_val, 4), '\\ncost:', cost_val,\n",
    "              '\\nhypothesis:\\n', np.round(hyp_val, 4),\n",
    "              '\\npredicted:\\n', pred)\n",
    "        print('-'*20)\n",
    "        sess.run(train, feed_dict={X:X_data, Y:Y_data})"
   ]
  },
  {
   "cell_type": "markdown",
   "metadata": {},
   "source": [
    "### p.370 Batch, Andgate"
   ]
  },
  {
   "cell_type": "code",
   "execution_count": 11,
   "metadata": {},
   "outputs": [
    {
     "name": "stdout",
     "output_type": "stream",
     "text": [
      "step :  0 \n",
      "W :\n",
      " [[1. 2.]\n",
      " [3. 4.]] \n",
      "b:\n",
      " [[1. 2.]] \n",
      " hypothesis:\n",
      " [[0.27 0.73]\n",
      " [0.12 0.88]\n",
      " [0.12 0.88]\n",
      " [0.05 0.95]] \n",
      " --------------------\n",
      "step :  1 \n",
      "W :\n",
      " [[1.83 1.17]\n",
      " [3.83 3.17]] \n",
      "b:\n",
      " [[ 3.45 -0.45]] \n",
      " hypothesis:\n",
      " [[0.98 0.02]\n",
      " [0.99 0.01]\n",
      " [0.99 0.01]\n",
      " [0.99 0.01]] \n",
      " --------------------\n",
      "step :  2 \n",
      "W :\n",
      " [[0.85 2.15]\n",
      " [2.85 4.15]] \n",
      "b:\n",
      " [[2.49 0.51]] \n",
      " hypothesis:\n",
      " [[0.88 0.12]\n",
      " [0.66 0.34]\n",
      " [0.66 0.34]\n",
      " [0.35 0.65]] \n",
      " --------------------\n",
      "step :  3 \n",
      "W :\n",
      " [[0.84 2.16]\n",
      " [2.84 4.16]] \n",
      "b:\n",
      " [[2.93 0.07]] \n",
      " hypothesis:\n",
      " [[0.95 0.05]\n",
      " [0.82 0.18]\n",
      " [0.82 0.18]\n",
      " [0.55 0.45]] \n",
      " --------------------\n",
      "step :  4 \n",
      "W :\n",
      " [[0.46 2.54]\n",
      " [2.46 4.54]] \n",
      "b:\n",
      " [[2.79 0.21]] \n",
      " hypothesis:\n",
      " [[0.93 0.07]\n",
      " [0.62 0.38]\n",
      " [0.62 0.38]\n",
      " [0.17 0.83]] \n",
      " --------------------\n"
     ]
    }
   ],
   "source": [
    "X_data = [[0, 0],[0, 1],[1, 0],[1, 1]]\n",
    "Y_data = [[1, 0],[1, 0],[1, 0],[0, 1]]\n",
    "\n",
    "X = tf.placeholder(tf.float32, [None,2])\n",
    "Y = tf.placeholder(tf.float32, [None,2])\n",
    "\n",
    "nb_classes = 2\n",
    "W = tf.Variable([[1., 2.],[3., 4.]], name=\"weight\")\n",
    "b = tf.Variable([[1., 2.]], name = \"bias\")\n",
    "                \n",
    "hypothesis = tf.nn.softmax(tf.matmul(X, W) + b)\n",
    "logit = tf.matmul(X, W) + b\n",
    "cost = tf.nn.softmax_cross_entropy_with_logits_v2(logits=logit, labels=Y)\n",
    "optimizer = tf.train.GradientDescentOptimizer(learning_rate=1)\n",
    "train = optimizer.minimize(cost)\n",
    "\n",
    "with tf.Session() as sess:\n",
    "    sess.run(tf.global_variables_initializer())\n",
    "    for step in range(5):\n",
    "        W_val, b_val, hyp_val = sess.run([W, b, hypothesis], \n",
    "                                         feed_dict={X:X_data, Y:Y_data})\n",
    "        print('step : ', step,\n",
    "              '\\nW :\\n', np.round(W_val, 2), '\\nb:\\n', np.round(b_val, 2),\n",
    "              '\\n hypothesis:\\n', np.round(hyp_val, 2), '\\n', '-'*20)\n",
    "        sess.run(train, feed_dict={X:X_data, Y:Y_data})"
   ]
  }
 ],
 "metadata": {
  "kernelspec": {
   "display_name": "Python 3 (TF-CPU)",
   "language": "python",
   "name": "tensorflow-cpu"
  },
  "language_info": {
   "codemirror_mode": {
    "name": "ipython",
    "version": 3
   },
   "file_extension": ".py",
   "mimetype": "text/x-python",
   "name": "python",
   "nbconvert_exporter": "python",
   "pygments_lexer": "ipython3",
   "version": "3.6.6"
  }
 },
 "nbformat": 4,
 "nbformat_minor": 2
}
